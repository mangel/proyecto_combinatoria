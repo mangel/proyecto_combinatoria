{
 "cells": [
  {
   "cell_type": "code",
   "execution_count": 99,
   "id": "7070fb14-808e-41f3-a999-8220825da74d",
   "metadata": {},
   "outputs": [],
   "source": [
    "import numpy as np\n",
    "import pprint as pp\n",
    "import math\n",
    "import itertools as it"
   ]
  },
  {
   "cell_type": "code",
   "execution_count": 96,
   "id": "40946a2a-0259-4f80-8c45-29bad1b6e8b0",
   "metadata": {},
   "outputs": [
    {
     "name": "stdout",
     "output_type": "stream",
     "text": [
      "###################################\n",
      "DEV MODE IS ENABLED: THIS IS A RUN WITH SYNTHETIC  DATA!\n",
      "PARAMETERS:\n",
      "Number of drop points: 5\n",
      "Number of trucks: 1\n",
      "Per truck capacity: 5\n",
      "###################################\n",
      "INCIDENCE MATRIX\n",
      "array([[0., 1., 0., 2., 8.],\n",
      "       [1., 0., 5., 4., 1.],\n",
      "       [0., 5., 0., 6., 5.],\n",
      "       [2., 4., 6., 0., 3.],\n",
      "       [8., 1., 5., 3., 0.]])\n",
      "-----------------------------------\n",
      "DEMAND ARRAY.\n",
      "array([0, 6, 9, 1, 8])\n",
      "Total demand: 24\n",
      "-----------------------------------\n"
     ]
    }
   ],
   "source": [
    "DEV_MODE = True\n",
    "\n",
    "# 1. Load the data. \n",
    "# Incidence matrix\n",
    "# The data must have already the incidence \n",
    "# matrix with the distance between each point.\n",
    "# Note: for now it will be randomly generated\n",
    "vertex_num = 5\n",
    "trucks_num = 1\n",
    "truck_capacity = 5\n",
    "\n",
    "incidece_matrix_data = (1 + 100 * np.random.rand()) * np.random.rand(vertex_num,vertex_num)\n",
    "I = np.identity(vertex_num, dtype=\"int\")\n",
    "incidece_matrix_data = incidece_matrix_data * (np.ones((vertex_num, vertex_num)) - I)\n",
    "incidece_matrix_data = (np.triu(incidece_matrix_data).T + np.triu(incidece_matrix_data)) // 1\n",
    "\n",
    "# Demand\n",
    "demand_data = np.random.randint(1, 10, vertex_num)\n",
    "# The first node is always the starting vertex\n",
    "demand_data[0] = 0\n",
    "\n",
    "print(\"###################################\")\n",
    "if DEV_MODE == True:\n",
    "    print(\"DEV MODE IS ENABLED: THIS IS A RUN WITH SYNTHETIC  DATA!\")\n",
    "print(\"PARAMETERS:\")\n",
    "print(\"Number of drop points: {}\".format(vertex_num))\n",
    "print(\"Number of trucks: {}\".format(trucks_num))\n",
    "print(\"Per truck capacity: {}\".format(truck_capacity))\n",
    "print(\"###################################\")\n",
    "print(\"INCIDENCE MATRIX\")\n",
    "pp.pprint(incidece_matrix_data)\n",
    "print(\"-----------------------------------\")\n",
    "print(\"DEMAND ARRAY.\")\n",
    "pp.pprint(demand_data)\n",
    "print(\"Total demand: {}\".format(np.sum(demand_data)))\n",
    "print(\"-----------------------------------\")"
   ]
  },
  {
   "cell_type": "code",
   "execution_count": 98,
   "id": "31677f9e-4455-47b8-bdf9-c038cfa8a6eb",
   "metadata": {},
   "outputs": [],
   "source": [
    "def nCp(n,p):\n",
    "    return int(math.factorial(n) / (math.factorial(n-p) * math.factorial(p)))\n",
    "\n",
    "def compute_distance(path):\n",
    "    distance = 0\n",
    "    aux = path[0]\n",
    "    for p in path[1:]:\n",
    "        distance += incidece_matrix_data[(aux, p)]\n",
    "        aux = p\n",
    "    return distance\n",
    "\n",
    "def compute_combinations_for_delivery():\n",
    "    result = 0\n",
    "    for i in range(1, vertex_num + 1):\n",
    "        result += nCp(vertex_num, i)\n",
    "    return result"
   ]
  },
  {
   "cell_type": "code",
   "execution_count": 79,
   "id": "2050f35d-44bd-44b9-bda5-55864da2976d",
   "metadata": {},
   "outputs": [],
   "source": [
    "# 4. Run the algorithm.\n",
    "# 5. Output the result."
   ]
  },
  {
   "cell_type": "code",
   "execution_count": 80,
   "id": "9729d26b-a816-462e-bf6b-720d6c8cbce8",
   "metadata": {},
   "outputs": [
    {
     "data": {
      "text/plain": [
       "196.0"
      ]
     },
     "execution_count": 80,
     "metadata": {},
     "output_type": "execute_result"
    }
   ],
   "source": [
    "p1 = (0, 1, 0, 2, 0, 3, 0, 4)\n",
    "compute_distance(p1)"
   ]
  },
  {
   "cell_type": "code",
   "execution_count": 107,
   "id": "27cf57b7-e3db-4e8a-86b4-63daf387aa78",
   "metadata": {},
   "outputs": [
    {
     "name": "stdout",
     "output_type": "stream",
     "text": [
      "()\n"
     ]
    }
   ],
   "source": [
    "for p in it.permutations([1,2],0):\n",
    "    print(p)"
   ]
  },
  {
   "cell_type": "code",
   "execution_count": null,
   "id": "1daa209f-c12a-48ee-b4ac-8328440b3338",
   "metadata": {},
   "outputs": [],
   "source": []
  }
 ],
 "metadata": {
  "kernelspec": {
   "display_name": "Python 3 (ipykernel)",
   "language": "python",
   "name": "python3"
  },
  "language_info": {
   "codemirror_mode": {
    "name": "ipython",
    "version": 3
   },
   "file_extension": ".py",
   "mimetype": "text/x-python",
   "name": "python",
   "nbconvert_exporter": "python",
   "pygments_lexer": "ipython3",
   "version": "3.9.7"
  }
 },
 "nbformat": 4,
 "nbformat_minor": 5
}
