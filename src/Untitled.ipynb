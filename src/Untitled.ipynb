{
 "cells": [
  {
   "cell_type": "code",
   "execution_count": 1,
   "id": "7070fb14-808e-41f3-a999-8220825da74d",
   "metadata": {},
   "outputs": [],
   "source": [
    "import numpy as np\n",
    "import pprint as pp"
   ]
  },
  {
   "cell_type": "code",
   "execution_count": 6,
   "id": "40946a2a-0259-4f80-8c45-29bad1b6e8b0",
   "metadata": {},
   "outputs": [
    {
     "name": "stdout",
     "output_type": "stream",
     "text": [
      "###################################\n",
      "DEV MODE IS ENABLED: THIS IS A RUN WITH SYNTHETIC DATA!\n",
      "PARAMETERS:\n",
      "Number of drop points: 5\n",
      "###################################\n",
      "INCIDENCE MATRIX\n",
      "array([[ 0.        , 69.81281958, 79.30860263, 68.22205607, 65.45549261],\n",
      "       [55.49427041,  0.        ,  0.63467603, 39.55404458, 37.68032473],\n",
      "       [72.2788276 , 49.92880374,  0.        , 24.11937841, 73.42786339],\n",
      "       [73.6680009 , 14.10209897, 46.9151425 ,  0.        ,  1.95341271],\n",
      "       [ 2.72783373, 18.85229095, 36.66148885, 45.77477778,  0.        ]])\n",
      "-----------------------------------\n",
      "DEMAND ARRAY.\n",
      "array([0, 7, 9, 4, 6])\n",
      "-----------------------------------\n"
     ]
    }
   ],
   "source": [
    "DEV_MODE = True\n",
    "\n",
    "# 1. Load the data. \n",
    "# Incidence matrix\n",
    "# The data must have already the incidence \n",
    "# matrix with the distance between each point.\n",
    "# Note: for now it will be randomly generated\n",
    "vertex_num = 5\n",
    "incidece_matrix_data = (100 * np.random.rand()) * np.random.rand(5,5)\n",
    "I = np.identity(vertex_num, dtype=\"int\")\n",
    "incidece_matrix_data = incidece_matrix_data * (np.ones((vertex_num, vertex_num)) - I)\n",
    "\n",
    "# Demand\n",
    "demand_data = np.random.randint(1, 10, 5)\n",
    "# The first node is always the starting vertex\n",
    "demand_data[0] = 0\n",
    "\n",
    "print(\"###################################\")\n",
    "if DEV_MODE == True:\n",
    "    print(\"DEV MODE IS ENABLED: THIS IS A RUN WITH SYNTHETIC  DATA!\")\n",
    "print(\"PARAMETERS:\")\n",
    "print(\"Number of drop points: {}\".format(vertex_num))\n",
    "print(\"###################################\")\n",
    "print(\"INCIDENCE MATRIX\")\n",
    "pp.pprint(incidece_matrix_data)\n",
    "print(\"-----------------------------------\")\n",
    "print(\"DEMAND ARRAY.\")\n",
    "pp.pprint(demand_data)\n",
    "print(\"-----------------------------------\")"
   ]
  },
  {
   "cell_type": "code",
   "execution_count": 8,
   "id": "31677f9e-4455-47b8-bdf9-c038cfa8a6eb",
   "metadata": {},
   "outputs": [],
   "source": [
    "# Algorithm\n",
    "# TODO\n",
    "# https://en.wikipedia.org/wiki/A*_search_algorithm"
   ]
  },
  {
   "cell_type": "code",
   "execution_count": null,
   "id": "2050f35d-44bd-44b9-bda5-55864da2976d",
   "metadata": {},
   "outputs": [],
   "source": [
    "# 4. Run the algorithm.\n",
    "# 5. Output the result."
   ]
  }
 ],
 "metadata": {
  "kernelspec": {
   "display_name": "Python 3 (ipykernel)",
   "language": "python",
   "name": "python3"
  },
  "language_info": {
   "codemirror_mode": {
    "name": "ipython",
    "version": 3
   },
   "file_extension": ".py",
   "mimetype": "text/x-python",
   "name": "python",
   "nbconvert_exporter": "python",
   "pygments_lexer": "ipython3",
   "version": "3.9.7"
  }
 },
 "nbformat": 4,
 "nbformat_minor": 5
}
